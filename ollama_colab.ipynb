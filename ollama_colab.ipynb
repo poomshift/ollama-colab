{
  "nbformat": 4,
  "nbformat_minor": 0,
  "metadata": {
    "colab": {
      "provenance": [],
      "gpuType": "L4",
      "authorship_tag": "ABX9TyMDorVyFWgNo9Npqfp3ovpi",
      "include_colab_link": true
    },
    "kernelspec": {
      "name": "python3",
      "display_name": "Python 3"
    },
    "language_info": {
      "name": "python"
    },
    "accelerator": "GPU"
  },
  "cells": [
    {
      "cell_type": "markdown",
      "metadata": {
        "id": "view-in-github",
        "colab_type": "text"
      },
      "source": [
        "<a href=\"https://colab.research.google.com/github/poomshift/ollama-colab/blob/main/ollama_colab.ipynb\" target=\"_parent\"><img src=\"https://colab.research.google.com/assets/colab-badge.svg\" alt=\"Open In Colab\"/></a>"
      ]
    },
    {
      "cell_type": "code",
      "execution_count": null,
      "metadata": {
        "id": "bq28qoOHENVA"
      },
      "outputs": [],
      "source": [
        "!pip install colab-xterm\n",
        "%load_ext colabxterm\n"
      ]
    },
    {
      "cell_type": "markdown",
      "source": [
        "ใน xterm\n",
        "\n",
        "1 พิมพ์ curl -fsSL https://ollama.com/install.sh | sh\n",
        "\n",
        "2 พิมพ์ ollama serve &\n",
        "\n",
        "3 พิมพ์ ollama run deepseek-r1:8b"
      ],
      "metadata": {
        "id": "O3IxOuXOHVvB"
      }
    },
    {
      "cell_type": "code",
      "source": [
        "%xterm\n"
      ],
      "metadata": {
        "id": "Cn5qIF18FK2h"
      },
      "execution_count": null,
      "outputs": []
    }
  ]
}